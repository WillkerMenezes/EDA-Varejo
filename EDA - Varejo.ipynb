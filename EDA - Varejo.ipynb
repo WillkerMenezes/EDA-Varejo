{
 "cells": [
  {
   "attachments": {},
   "cell_type": "markdown",
   "id": "b061b4ec",
   "metadata": {},
   "source": [
    "\n",
    "# Análise Exploratória de Dados em Python para a área de Varejo"
   ]
  },
  {
   "attachments": {},
   "cell_type": "markdown",
   "id": "f2e2f671",
   "metadata": {},
   "source": [
    "### Trabalho de: Willker Menezes da Rocha"
   ]
  },
  {
   "attachments": {},
   "cell_type": "markdown",
   "id": "bc18d47c",
   "metadata": {},
   "source": [
    "Link do dataset original: https://community.tableau.com/s/question/0D54T00000CWeX8SAL/sample-superstore-sales-excelxls<br>"
   ]
  },
  {
   "attachments": {},
   "cell_type": "markdown",
   "id": "c39e8b00",
   "metadata": {},
   "source": [
    "**Os dados foram previamente limpos e simplificados. Os nomes das colunas foram editados para o português.**"
   ]
  },
  {
   "cell_type": "code",
   "execution_count": 1,
   "id": "921527bd",
   "metadata": {},
   "outputs": [],
   "source": [
    "# Importando as bibliotecas\n",
    "\n",
    "import numpy as np\n",
    "import pandas as pd\n",
    "import matplotlib.pyplot as plt\n",
    "import seaborn as sns\n",
    "import datetime as dt"
   ]
  },
  {
   "attachments": {},
   "cell_type": "markdown",
   "id": "cba483b3",
   "metadata": {},
   "source": [
    "## Análise Descritiva"
   ]
  },
  {
   "cell_type": "code",
   "execution_count": 2,
   "id": "9e9a2f84",
   "metadata": {},
   "outputs": [],
   "source": [
    "# Carregando o dataset\n",
    "df_dsa = pd.read_csv('/dataset.csv')"
   ]
  },
  {
   "cell_type": "code",
   "execution_count": 3,
   "id": "b2057c0d",
   "metadata": {},
   "outputs": [
    {
     "data": {
      "text/plain": [
       "(9700, 11)"
      ]
     },
     "execution_count": 3,
     "metadata": {},
     "output_type": "execute_result"
    }
   ],
   "source": [
    "# Formato\n",
    "df_dsa.shape"
   ]
  },
  {
   "cell_type": "code",
   "execution_count": 4,
   "id": "d2814227",
   "metadata": {
    "scrolled": false
   },
   "outputs": [
    {
     "data": {
      "text/html": [
       "<div>\n",
       "<style scoped>\n",
       "    .dataframe tbody tr th:only-of-type {\n",
       "        vertical-align: middle;\n",
       "    }\n",
       "\n",
       "    .dataframe tbody tr th {\n",
       "        vertical-align: top;\n",
       "    }\n",
       "\n",
       "    .dataframe thead th {\n",
       "        text-align: right;\n",
       "    }\n",
       "</style>\n",
       "<table border=\"1\" class=\"dataframe\">\n",
       "  <thead>\n",
       "    <tr style=\"text-align: right;\">\n",
       "      <th></th>\n",
       "      <th>ID_Pedido</th>\n",
       "      <th>Data_Pedido</th>\n",
       "      <th>ID_Cliente</th>\n",
       "      <th>Segmento</th>\n",
       "      <th>Pais</th>\n",
       "      <th>Cidade</th>\n",
       "      <th>Estado</th>\n",
       "      <th>ID_Produto</th>\n",
       "      <th>Categoria</th>\n",
       "      <th>SubCategoria</th>\n",
       "      <th>Valor_Venda</th>\n",
       "    </tr>\n",
       "  </thead>\n",
       "  <tbody>\n",
       "    <tr>\n",
       "      <th>0</th>\n",
       "      <td>CA-2017-152156</td>\n",
       "      <td>08/11/2017</td>\n",
       "      <td>CG-12520</td>\n",
       "      <td>Consumer</td>\n",
       "      <td>United States</td>\n",
       "      <td>Henderson</td>\n",
       "      <td>Kentucky</td>\n",
       "      <td>FUR-BO-10001798</td>\n",
       "      <td>Furniture</td>\n",
       "      <td>Bookcases</td>\n",
       "      <td>261.9600</td>\n",
       "    </tr>\n",
       "    <tr>\n",
       "      <th>1</th>\n",
       "      <td>CA-2017-152156</td>\n",
       "      <td>08/11/2017</td>\n",
       "      <td>CG-12520</td>\n",
       "      <td>Consumer</td>\n",
       "      <td>United States</td>\n",
       "      <td>Henderson</td>\n",
       "      <td>Kentucky</td>\n",
       "      <td>FUR-CH-10000454</td>\n",
       "      <td>Furniture</td>\n",
       "      <td>Chairs</td>\n",
       "      <td>731.9400</td>\n",
       "    </tr>\n",
       "    <tr>\n",
       "      <th>2</th>\n",
       "      <td>CA-2017-138688</td>\n",
       "      <td>12/06/2017</td>\n",
       "      <td>DV-13045</td>\n",
       "      <td>Corporate</td>\n",
       "      <td>United States</td>\n",
       "      <td>Los Angeles</td>\n",
       "      <td>California</td>\n",
       "      <td>OFF-LA-10000240</td>\n",
       "      <td>Office Supplies</td>\n",
       "      <td>Labels</td>\n",
       "      <td>14.6200</td>\n",
       "    </tr>\n",
       "    <tr>\n",
       "      <th>3</th>\n",
       "      <td>US-2016-108966</td>\n",
       "      <td>11/10/2016</td>\n",
       "      <td>SO-20335</td>\n",
       "      <td>Consumer</td>\n",
       "      <td>United States</td>\n",
       "      <td>Fort Lauderdale</td>\n",
       "      <td>Florida</td>\n",
       "      <td>FUR-TA-10000577</td>\n",
       "      <td>Furniture</td>\n",
       "      <td>Tables</td>\n",
       "      <td>957.5775</td>\n",
       "    </tr>\n",
       "    <tr>\n",
       "      <th>4</th>\n",
       "      <td>US-2016-108966</td>\n",
       "      <td>11/10/2016</td>\n",
       "      <td>SO-20335</td>\n",
       "      <td>Consumer</td>\n",
       "      <td>United States</td>\n",
       "      <td>Fort Lauderdale</td>\n",
       "      <td>Florida</td>\n",
       "      <td>OFF-ST-10000760</td>\n",
       "      <td>Office Supplies</td>\n",
       "      <td>Storage</td>\n",
       "      <td>22.3680</td>\n",
       "    </tr>\n",
       "  </tbody>\n",
       "</table>\n",
       "</div>"
      ],
      "text/plain": [
       "        ID_Pedido Data_Pedido ID_Cliente   Segmento           Pais  \\\n",
       "0  CA-2017-152156  08/11/2017   CG-12520   Consumer  United States   \n",
       "1  CA-2017-152156  08/11/2017   CG-12520   Consumer  United States   \n",
       "2  CA-2017-138688  12/06/2017   DV-13045  Corporate  United States   \n",
       "3  US-2016-108966  11/10/2016   SO-20335   Consumer  United States   \n",
       "4  US-2016-108966  11/10/2016   SO-20335   Consumer  United States   \n",
       "\n",
       "            Cidade      Estado       ID_Produto        Categoria SubCategoria  \\\n",
       "0        Henderson    Kentucky  FUR-BO-10001798        Furniture    Bookcases   \n",
       "1        Henderson    Kentucky  FUR-CH-10000454        Furniture       Chairs   \n",
       "2      Los Angeles  California  OFF-LA-10000240  Office Supplies       Labels   \n",
       "3  Fort Lauderdale     Florida  FUR-TA-10000577        Furniture       Tables   \n",
       "4  Fort Lauderdale     Florida  OFF-ST-10000760  Office Supplies      Storage   \n",
       "\n",
       "   Valor_Venda  \n",
       "0     261.9600  \n",
       "1     731.9400  \n",
       "2      14.6200  \n",
       "3     957.5775  \n",
       "4      22.3680  "
      ]
     },
     "execution_count": 4,
     "metadata": {},
     "output_type": "execute_result"
    }
   ],
   "source": [
    "# Aparência do dataset\n",
    "df_dsa.head()"
   ]
  },
  {
   "attachments": {},
   "cell_type": "markdown",
   "id": "3f0cf95a",
   "metadata": {},
   "source": [
    "## Análise Exploratória"
   ]
  },
  {
   "cell_type": "code",
   "execution_count": 5,
   "id": "7e4c9a2d",
   "metadata": {},
   "outputs": [
    {
     "data": {
      "text/plain": [
       "Index(['ID_Pedido', 'Data_Pedido', 'ID_Cliente', 'Segmento', 'Pais', 'Cidade',\n",
       "       'Estado', 'ID_Produto', 'Categoria', 'SubCategoria', 'Valor_Venda'],\n",
       "      dtype='object')"
      ]
     },
     "execution_count": 5,
     "metadata": {},
     "output_type": "execute_result"
    }
   ],
   "source": [
    "# Colunas do dataset\n",
    "df_dsa.columns"
   ]
  },
  {
   "cell_type": "code",
   "execution_count": 6,
   "id": "43e7444e",
   "metadata": {},
   "outputs": [
    {
     "data": {
      "text/plain": [
       "ID_Pedido        object\n",
       "Data_Pedido      object\n",
       "ID_Cliente       object\n",
       "Segmento         object\n",
       "Pais             object\n",
       "Cidade           object\n",
       "Estado           object\n",
       "ID_Produto       object\n",
       "Categoria        object\n",
       "SubCategoria     object\n",
       "Valor_Venda     float64\n",
       "dtype: object"
      ]
     },
     "execution_count": 6,
     "metadata": {},
     "output_type": "execute_result"
    }
   ],
   "source": [
    "# Tipos de dados de cada coluna\n",
    "df_dsa.dtypes"
   ]
  },
  {
   "cell_type": "code",
   "execution_count": 7,
   "id": "eec70bba",
   "metadata": {},
   "outputs": [
    {
     "data": {
      "text/plain": [
       "count     9700.000000\n",
       "mean       230.469892\n",
       "std        627.504252\n",
       "min          0.444000\n",
       "25%         17.248000\n",
       "50%         54.272000\n",
       "75%        209.932500\n",
       "max      22638.480000\n",
       "Name: Valor_Venda, dtype: float64"
      ]
     },
     "execution_count": 7,
     "metadata": {},
     "output_type": "execute_result"
    }
   ],
   "source": [
    "# Resumo estatístico da variável quantitativa\n",
    "df_dsa[\"Valor_Venda\"].describe()"
   ]
  },
  {
   "attachments": {},
   "cell_type": "markdown",
   "id": "d428e511",
   "metadata": {},
   "source": [
    "O desvio padrão é bastante grande. Como a proposta deste projeto não é a análise estatística, mas apenas explorar os dados como estão, estes dados não serão ajustados."
   ]
  },
  {
   "cell_type": "code",
   "execution_count": 10,
   "id": "b8165a80",
   "metadata": {},
   "outputs": [
    {
     "data": {
      "text/html": [
       "<div>\n",
       "<style scoped>\n",
       "    .dataframe tbody tr th:only-of-type {\n",
       "        vertical-align: middle;\n",
       "    }\n",
       "\n",
       "    .dataframe tbody tr th {\n",
       "        vertical-align: top;\n",
       "    }\n",
       "\n",
       "    .dataframe thead th {\n",
       "        text-align: right;\n",
       "    }\n",
       "</style>\n",
       "<table border=\"1\" class=\"dataframe\">\n",
       "  <thead>\n",
       "    <tr style=\"text-align: right;\">\n",
       "      <th></th>\n",
       "      <th>ID_Pedido</th>\n",
       "      <th>Data_Pedido</th>\n",
       "      <th>ID_Cliente</th>\n",
       "      <th>Segmento</th>\n",
       "      <th>Pais</th>\n",
       "      <th>Cidade</th>\n",
       "      <th>Estado</th>\n",
       "      <th>ID_Produto</th>\n",
       "      <th>Categoria</th>\n",
       "      <th>SubCategoria</th>\n",
       "      <th>Valor_Venda</th>\n",
       "    </tr>\n",
       "  </thead>\n",
       "  <tbody>\n",
       "  </tbody>\n",
       "</table>\n",
       "</div>"
      ],
      "text/plain": [
       "Empty DataFrame\n",
       "Columns: [ID_Pedido, Data_Pedido, ID_Cliente, Segmento, Pais, Cidade, Estado, ID_Produto, Categoria, SubCategoria, Valor_Venda]\n",
       "Index: []"
      ]
     },
     "execution_count": 10,
     "metadata": {},
     "output_type": "execute_result"
    }
   ],
   "source": [
    "# Verificando se há registros duplicados\n",
    "df_dsa[df_dsa.duplicated()]"
   ]
  },
  {
   "attachments": {},
   "cell_type": "markdown",
   "id": "64898033",
   "metadata": {},
   "source": [
    "Não há registros duplicados no conjunto de dados."
   ]
  },
  {
   "cell_type": "code",
   "execution_count": 9,
   "id": "936d1045",
   "metadata": {},
   "outputs": [
    {
     "data": {
      "text/plain": [
       "ID_Pedido       0\n",
       "Data_Pedido     0\n",
       "ID_Cliente      0\n",
       "Segmento        0\n",
       "Pais            0\n",
       "Cidade          0\n",
       "Estado          0\n",
       "ID_Produto      0\n",
       "Categoria       0\n",
       "SubCategoria    0\n",
       "Valor_Venda     0\n",
       "dtype: int64"
      ]
     },
     "execution_count": 9,
     "metadata": {},
     "output_type": "execute_result"
    }
   ],
   "source": [
    "# Verificando de há valores ausentes\n",
    "df_dsa.isnull().sum()"
   ]
  },
  {
   "attachments": {},
   "cell_type": "markdown",
   "id": "e5ee8d92",
   "metadata": {},
   "source": [
    "Também não há valores ausentes."
   ]
  },
  {
   "attachments": {},
   "cell_type": "markdown",
   "id": "78c23315",
   "metadata": {},
   "source": [
    "## Pergunta de Negócio 1:\n",
    "\n",
    "### Qual Cidade com Maior Valor de Venda de Produtos da Categoria 'Office Supplies'?"
   ]
  },
  {
   "cell_type": "code",
   "execution_count": 11,
   "id": "69296d71",
   "metadata": {},
   "outputs": [],
   "source": [
    "# Filtro para a criação de um novo dataframe com a categoria 'Office Supplies'\n",
    "df_dsa_p1 = df_dsa[df_dsa['Categoria'] == 'Office Supplies']"
   ]
  },
  {
   "cell_type": "code",
   "execution_count": 12,
   "id": "3faec6b2",
   "metadata": {},
   "outputs": [],
   "source": [
    "# Agrupando por cidade e calculando o total de Valor_Venda\n",
    "df_dsa_p1_total = df_dsa_p1.groupby('Cidade')['Valor_Venda'].sum()"
   ]
  },
  {
   "cell_type": "code",
   "execution_count": 13,
   "id": "dc18e543",
   "metadata": {},
   "outputs": [
    {
     "name": "stdout",
     "output_type": "stream",
     "text": [
      "Cidade com maior valor de venda para 'Office Supplies': New York City\n"
     ]
    }
   ],
   "source": [
    "# Cidade com maior valor de venda\n",
    "cidade_maior_venda = df_dsa_p1_total.idxmax()\n",
    "print(\"Cidade com maior valor de venda para 'Office Supplies':\", cidade_maior_venda)"
   ]
  },
  {
   "cell_type": "code",
   "execution_count": 14,
   "id": "543561e5",
   "metadata": {},
   "outputs": [
    {
     "data": {
      "text/plain": [
       "Cidade\n",
       "New York City    68362.814\n",
       "Los Angeles      47098.100\n",
       "San Francisco    41771.198\n",
       "Seattle          34856.878\n",
       "Philadelphia     29313.687\n",
       "                   ...    \n",
       "Ormond Beach         2.808\n",
       "Pensacola            2.214\n",
       "Jupiter              2.064\n",
       "Elyria               1.824\n",
       "Abilene              1.392\n",
       "Name: Valor_Venda, Length: 480, dtype: float64"
      ]
     },
     "execution_count": 14,
     "metadata": {},
     "output_type": "execute_result"
    }
   ],
   "source": [
    "# Conferência do resultado\n",
    "df_dsa_p1_total.sort_values(ascending = False)"
   ]
  },
  {
   "attachments": {},
   "cell_type": "markdown",
   "id": "b2257a7b",
   "metadata": {},
   "source": [
    "## Pergunta de Negócio 2:\n",
    "\n",
    "### Qual o Total de Vendas Por Data do Pedido?"
   ]
  },
  {
   "cell_type": "code",
   "execution_count": 15,
   "id": "df6ed996",
   "metadata": {},
   "outputs": [],
   "source": [
    "# Total de vendas para cada data de pedido\n",
    "df_dsa_p2 = df_dsa.groupby('Data_Pedido')['Valor_Venda'].sum()"
   ]
  },
  {
   "cell_type": "code",
   "execution_count": 16,
   "id": "c5c7c4b1",
   "metadata": {},
   "outputs": [
    {
     "data": {
      "text/plain": [
       "Data_Pedido\n",
       "01/01/2018    1481.8280\n",
       "01/02/2015     468.9000\n",
       "01/02/2017     161.9700\n",
       "01/03/2015    2203.1510\n",
       "01/03/2016    1642.1744\n",
       "Name: Valor_Venda, dtype: float64"
      ]
     },
     "execution_count": 16,
     "metadata": {},
     "output_type": "execute_result"
    }
   ],
   "source": [
    "df_dsa_p2.head()"
   ]
  },
  {
   "attachments": {},
   "cell_type": "markdown",
   "id": "2888bdee",
   "metadata": {},
   "source": [
    "Obs: A data de pedido está sendo tratada como como variável categórica e não como série temporal (\"ao longo do tempo\"). Por isso as datas estão desordenadas."
   ]
  },
  {
   "cell_type": "code",
   "execution_count": 17,
   "id": "d0dddb2a",
   "metadata": {},
   "outputs": [
    {
     "data": {
      "image/png": "[encoded data removed]",
      "text/plain": [
       "<Figure size 1440x432 with 1 Axes>"
      ]
     },
     "metadata": {
      "needs_background": "light"
     },
     "output_type": "display_data"
    }
   ],
   "source": [
    "# Plotando em um gráfico\n",
    "plt.figure(figsize = (20, 6))\n",
    "df_dsa_p2.plot(x = 'Data_Pedido', y = 'Valor_Venda', color = 'green')\n",
    "plt.title('Total de Vendas Por Data do Pedido')\n",
    "plt.show()"
   ]
  },
  {
   "attachments": {},
   "cell_type": "markdown",
   "id": "2c27a9db",
   "metadata": {},
   "source": [
    "## Pergunta de Negócio 3:\n",
    "\n",
    "### Qual o Total de Vendas por Estado?"
   ]
  },
  {
   "cell_type": "code",
   "execution_count": 19,
   "id": "2187c6b6",
   "metadata": {},
   "outputs": [],
   "source": [
    "# Agrupando por estado e calculando o total de vendas\n",
    "df_dsa_p3 = df_dsa.groupby('Estado')['Valor_Venda'].sum().reset_index() \n",
    "\n",
    "# reset_index() -> Cada vez que uma fatia do dataframe é criada, o index é reordenado"
   ]
  },
  {
   "cell_type": "code",
   "execution_count": 20,
   "id": "000f809e",
   "metadata": {},
   "outputs": [
    {
     "data": {
      "image/png": "[encoded data removed]",
      "text/plain": [
       "<Figure size 1152x432 with 1 Axes>"
      ]
     },
     "metadata": {
      "needs_background": "light"
     },
     "output_type": "display_data"
    }
   ],
   "source": [
    "# Plotando em um gráfico\n",
    "plt.figure(figsize = (16, 6))\n",
    "sns.barplot(data = df_dsa_p3, \n",
    "            y = 'Valor_Venda', \n",
    "            x = 'Estado').set(title = 'Vendas Por Estado')\n",
    "plt.xticks(rotation = 80)\n",
    "plt.show()"
   ]
  },
  {
   "attachments": {},
   "cell_type": "markdown",
   "id": "ac63cfc4",
   "metadata": {},
   "source": [
    "## Pergunta de Negócio 4:\n",
    "\n",
    "### Quais São as 10 Cidades com Maior Total de Vendas?"
   ]
  },
  {
   "cell_type": "code",
   "execution_count": 21,
   "id": "042ef540",
   "metadata": {},
   "outputs": [],
   "source": [
    "# Agrupando por cidade, calculando o total de vendas e ordenando somente com base nos 10 primeiros registros\n",
    "df_dsa_p4 = df_dsa.groupby('Cidade')['Valor_Venda'].sum().reset_index().sort_values(by = 'Valor_Venda',\n",
    "                                                                                    ascending = False).head(10)"
   ]
  },
  {
   "cell_type": "code",
   "execution_count": 22,
   "id": "2398a314",
   "metadata": {},
   "outputs": [
    {
     "data": {
      "text/html": [
       "<div>\n",
       "<style scoped>\n",
       "    .dataframe tbody tr th:only-of-type {\n",
       "        vertical-align: middle;\n",
       "    }\n",
       "\n",
       "    .dataframe tbody tr th {\n",
       "        vertical-align: top;\n",
       "    }\n",
       "\n",
       "    .dataframe thead th {\n",
       "        text-align: right;\n",
       "    }\n",
       "</style>\n",
       "<table border=\"1\" class=\"dataframe\">\n",
       "  <thead>\n",
       "    <tr style=\"text-align: right;\">\n",
       "      <th></th>\n",
       "      <th>Cidade</th>\n",
       "      <th>Valor_Venda</th>\n",
       "    </tr>\n",
       "  </thead>\n",
       "  <tbody>\n",
       "    <tr>\n",
       "      <th>327</th>\n",
       "      <td>New York City</td>\n",
       "      <td>251749.2190</td>\n",
       "    </tr>\n",
       "    <tr>\n",
       "      <th>265</th>\n",
       "      <td>Los Angeles</td>\n",
       "      <td>171654.6330</td>\n",
       "    </tr>\n",
       "    <tr>\n",
       "      <th>450</th>\n",
       "      <td>Seattle</td>\n",
       "      <td>114725.4780</td>\n",
       "    </tr>\n",
       "    <tr>\n",
       "      <th>436</th>\n",
       "      <td>San Francisco</td>\n",
       "      <td>107489.9520</td>\n",
       "    </tr>\n",
       "    <tr>\n",
       "      <th>372</th>\n",
       "      <td>Philadelphia</td>\n",
       "      <td>107197.8030</td>\n",
       "    </tr>\n",
       "    <tr>\n",
       "      <th>207</th>\n",
       "      <td>Houston</td>\n",
       "      <td>61590.1868</td>\n",
       "    </tr>\n",
       "    <tr>\n",
       "      <th>435</th>\n",
       "      <td>San Diego</td>\n",
       "      <td>47458.3790</td>\n",
       "    </tr>\n",
       "    <tr>\n",
       "      <th>80</th>\n",
       "      <td>Chicago</td>\n",
       "      <td>46974.3430</td>\n",
       "    </tr>\n",
       "    <tr>\n",
       "      <th>216</th>\n",
       "      <td>Jacksonville</td>\n",
       "      <td>44713.1830</td>\n",
       "    </tr>\n",
       "    <tr>\n",
       "      <th>123</th>\n",
       "      <td>Detroit</td>\n",
       "      <td>42446.9440</td>\n",
       "    </tr>\n",
       "  </tbody>\n",
       "</table>\n",
       "</div>"
      ],
      "text/plain": [
       "            Cidade  Valor_Venda\n",
       "327  New York City  251749.2190\n",
       "265    Los Angeles  171654.6330\n",
       "450        Seattle  114725.4780\n",
       "436  San Francisco  107489.9520\n",
       "372   Philadelphia  107197.8030\n",
       "207        Houston   61590.1868\n",
       "435      San Diego   47458.3790\n",
       "80         Chicago   46974.3430\n",
       "216   Jacksonville   44713.1830\n",
       "123        Detroit   42446.9440"
      ]
     },
     "execution_count": 22,
     "metadata": {},
     "output_type": "execute_result"
    }
   ],
   "source": [
    "df_dsa_p4.head(10)"
   ]
  },
  {
   "cell_type": "code",
   "execution_count": 23,
   "id": "b96b6a84",
   "metadata": {},
   "outputs": [
    {
     "data": {
      "image/png": "[encoded data removed]",
      "text/plain": [
       "<Figure size 1152x432 with 1 Axes>"
      ]
     },
     "metadata": {
      "needs_background": "light"
     },
     "output_type": "display_data"
    }
   ],
   "source": [
    "# Plotando em um gráfico\n",
    "plt.figure(figsize = (16, 6))\n",
    "sns.set_palette('coolwarm')\n",
    "sns.barplot(data = df_dsa_p4, \n",
    "            y = 'Valor_Venda', \n",
    "            x = 'Cidade').set(title = 'As 10 Cidades com Maior Total de Vendas')\n",
    "plt.show()"
   ]
  },
  {
   "attachments": {},
   "cell_type": "markdown",
   "id": "4831dc06",
   "metadata": {},
   "source": [
    "## Pergunta de Negócio 5:\n",
    "\n",
    "### Qual Segmento Teve o Maior Total de Vendas?"
   ]
  },
  {
   "cell_type": "code",
   "execution_count": 24,
   "id": "70c90a68",
   "metadata": {},
   "outputs": [],
   "source": [
    "# Agrupando por segmento e calculando o total de vendas\n",
    "df_dsa_p5 = df_dsa.groupby('Segmento')['Valor_Venda'].sum().reset_index().sort_values(by = 'Valor_Venda',\n",
    "                                                                                      ascending = False)"
   ]
  },
  {
   "cell_type": "code",
   "execution_count": 25,
   "id": "7454f107",
   "metadata": {},
   "outputs": [
    {
     "data": {
      "text/html": [
       "<div>\n",
       "<style scoped>\n",
       "    .dataframe tbody tr th:only-of-type {\n",
       "        vertical-align: middle;\n",
       "    }\n",
       "\n",
       "    .dataframe tbody tr th {\n",
       "        vertical-align: top;\n",
       "    }\n",
       "\n",
       "    .dataframe thead th {\n",
       "        text-align: right;\n",
       "    }\n",
       "</style>\n",
       "<table border=\"1\" class=\"dataframe\">\n",
       "  <thead>\n",
       "    <tr style=\"text-align: right;\">\n",
       "      <th></th>\n",
       "      <th>Segmento</th>\n",
       "      <th>Valor_Venda</th>\n",
       "    </tr>\n",
       "  </thead>\n",
       "  <tbody>\n",
       "    <tr>\n",
       "      <th>0</th>\n",
       "      <td>Consumer</td>\n",
       "      <td>1.133834e+06</td>\n",
       "    </tr>\n",
       "    <tr>\n",
       "      <th>1</th>\n",
       "      <td>Corporate</td>\n",
       "      <td>6.792322e+05</td>\n",
       "    </tr>\n",
       "    <tr>\n",
       "      <th>2</th>\n",
       "      <td>Home Office</td>\n",
       "      <td>4.224914e+05</td>\n",
       "    </tr>\n",
       "  </tbody>\n",
       "</table>\n",
       "</div>"
      ],
      "text/plain": [
       "      Segmento   Valor_Venda\n",
       "0     Consumer  1.133834e+06\n",
       "1    Corporate  6.792322e+05\n",
       "2  Home Office  4.224914e+05"
      ]
     },
     "execution_count": 25,
     "metadata": {},
     "output_type": "execute_result"
    }
   ],
   "source": [
    "df_dsa_p5.head()"
   ]
  },
  {
   "cell_type": "code",
   "execution_count": 28,
   "id": "f1bf8c65",
   "metadata": {},
   "outputs": [],
   "source": [
    "# Função para converter a notação científica em valor absoluto\n",
    "def converte_notacao(values): \n",
    "    def novo_formato(pct): \n",
    "        total = sum(values) \n",
    "        val = int(round(pct * total / 100.0))\n",
    "        return ' $ {v:d}'.format(v = val)\n",
    "    return novo_formato"
   ]
  },
  {
   "cell_type": "code",
   "execution_count": 29,
   "id": "1ed6acb4",
   "metadata": {},
   "outputs": [
    {
     "data": {
      "image/png": "[encoded data removed]",
      "text/plain": [
       "<Figure size 1152x432 with 1 Axes>"
      ]
     },
     "metadata": {},
     "output_type": "display_data"
    }
   ],
   "source": [
    "# Plotando em um gráfico\n",
    "\n",
    "plt.figure(figsize = (16, 6))\n",
    "\n",
    "# Base do gráfico (pizza)\n",
    "plt.pie(df_dsa_p5['Valor_Venda'], \n",
    "        labels = df_dsa_p5['Segmento'],\n",
    "        autopct = converte_notacao(df_dsa_p5['Valor_Venda']),\n",
    "        startangle = 90)\n",
    "\n",
    "# Limpando o círculo central (gráfico de rosca)\n",
    "centre_circle = plt.Circle((0, 0), 0.82, fc = 'white')\n",
    "fig = plt.gcf()\n",
    "fig.gca().add_artist(centre_circle)\n",
    "\n",
    "# Labels e anotações\n",
    "plt.annotate(text = 'Total de Vendas: ' + '$ ' + str(int(sum(df_dsa_p5['Valor_Venda']))), xy = (-0.25, 0))\n",
    "plt.title('Total de Vendas Por Segmento')\n",
    "plt.show()"
   ]
  },
  {
   "attachments": {},
   "cell_type": "markdown",
   "id": "8eb0ea56",
   "metadata": {},
   "source": [
    "## Pergunta de Negócio 6:\n",
    "\n",
    "### Qual o Total de Vendas Por Segmento e Por Ano?"
   ]
  },
  {
   "cell_type": "code",
   "execution_count": 30,
   "id": "a16de64c",
   "metadata": {},
   "outputs": [
    {
     "data": {
      "text/html": [
       "<div>\n",
       "<style scoped>\n",
       "    .dataframe tbody tr th:only-of-type {\n",
       "        vertical-align: middle;\n",
       "    }\n",
       "\n",
       "    .dataframe tbody tr th {\n",
       "        vertical-align: top;\n",
       "    }\n",
       "\n",
       "    .dataframe thead th {\n",
       "        text-align: right;\n",
       "    }\n",
       "</style>\n",
       "<table border=\"1\" class=\"dataframe\">\n",
       "  <thead>\n",
       "    <tr style=\"text-align: right;\">\n",
       "      <th></th>\n",
       "      <th>ID_Pedido</th>\n",
       "      <th>Data_Pedido</th>\n",
       "      <th>ID_Cliente</th>\n",
       "      <th>Segmento</th>\n",
       "      <th>Pais</th>\n",
       "      <th>Cidade</th>\n",
       "      <th>Estado</th>\n",
       "      <th>ID_Produto</th>\n",
       "      <th>Categoria</th>\n",
       "      <th>SubCategoria</th>\n",
       "      <th>Valor_Venda</th>\n",
       "    </tr>\n",
       "  </thead>\n",
       "  <tbody>\n",
       "    <tr>\n",
       "      <th>0</th>\n",
       "      <td>CA-2017-152156</td>\n",
       "      <td>08/11/2017</td>\n",
       "      <td>CG-12520</td>\n",
       "      <td>Consumer</td>\n",
       "      <td>United States</td>\n",
       "      <td>Henderson</td>\n",
       "      <td>Kentucky</td>\n",
       "      <td>FUR-BO-10001798</td>\n",
       "      <td>Furniture</td>\n",
       "      <td>Bookcases</td>\n",
       "      <td>261.9600</td>\n",
       "    </tr>\n",
       "    <tr>\n",
       "      <th>1</th>\n",
       "      <td>CA-2017-152156</td>\n",
       "      <td>08/11/2017</td>\n",
       "      <td>CG-12520</td>\n",
       "      <td>Consumer</td>\n",
       "      <td>United States</td>\n",
       "      <td>Henderson</td>\n",
       "      <td>Kentucky</td>\n",
       "      <td>FUR-CH-10000454</td>\n",
       "      <td>Furniture</td>\n",
       "      <td>Chairs</td>\n",
       "      <td>731.9400</td>\n",
       "    </tr>\n",
       "    <tr>\n",
       "      <th>2</th>\n",
       "      <td>CA-2017-138688</td>\n",
       "      <td>12/06/2017</td>\n",
       "      <td>DV-13045</td>\n",
       "      <td>Corporate</td>\n",
       "      <td>United States</td>\n",
       "      <td>Los Angeles</td>\n",
       "      <td>California</td>\n",
       "      <td>OFF-LA-10000240</td>\n",
       "      <td>Office Supplies</td>\n",
       "      <td>Labels</td>\n",
       "      <td>14.6200</td>\n",
       "    </tr>\n",
       "    <tr>\n",
       "      <th>3</th>\n",
       "      <td>US-2016-108966</td>\n",
       "      <td>11/10/2016</td>\n",
       "      <td>SO-20335</td>\n",
       "      <td>Consumer</td>\n",
       "      <td>United States</td>\n",
       "      <td>Fort Lauderdale</td>\n",
       "      <td>Florida</td>\n",
       "      <td>FUR-TA-10000577</td>\n",
       "      <td>Furniture</td>\n",
       "      <td>Tables</td>\n",
       "      <td>957.5775</td>\n",
       "    </tr>\n",
       "    <tr>\n",
       "      <th>4</th>\n",
       "      <td>US-2016-108966</td>\n",
       "      <td>11/10/2016</td>\n",
       "      <td>SO-20335</td>\n",
       "      <td>Consumer</td>\n",
       "      <td>United States</td>\n",
       "      <td>Fort Lauderdale</td>\n",
       "      <td>Florida</td>\n",
       "      <td>OFF-ST-10000760</td>\n",
       "      <td>Office Supplies</td>\n",
       "      <td>Storage</td>\n",
       "      <td>22.3680</td>\n",
       "    </tr>\n",
       "  </tbody>\n",
       "</table>\n",
       "</div>"
      ],
      "text/plain": [
       "        ID_Pedido Data_Pedido ID_Cliente   Segmento           Pais  \\\n",
       "0  CA-2017-152156  08/11/2017   CG-12520   Consumer  United States   \n",
       "1  CA-2017-152156  08/11/2017   CG-12520   Consumer  United States   \n",
       "2  CA-2017-138688  12/06/2017   DV-13045  Corporate  United States   \n",
       "3  US-2016-108966  11/10/2016   SO-20335   Consumer  United States   \n",
       "4  US-2016-108966  11/10/2016   SO-20335   Consumer  United States   \n",
       "\n",
       "            Cidade      Estado       ID_Produto        Categoria SubCategoria  \\\n",
       "0        Henderson    Kentucky  FUR-BO-10001798        Furniture    Bookcases   \n",
       "1        Henderson    Kentucky  FUR-CH-10000454        Furniture       Chairs   \n",
       "2      Los Angeles  California  OFF-LA-10000240  Office Supplies       Labels   \n",
       "3  Fort Lauderdale     Florida  FUR-TA-10000577        Furniture       Tables   \n",
       "4  Fort Lauderdale     Florida  OFF-ST-10000760  Office Supplies      Storage   \n",
       "\n",
       "   Valor_Venda  \n",
       "0     261.9600  \n",
       "1     731.9400  \n",
       "2      14.6200  \n",
       "3     957.5775  \n",
       "4      22.3680  "
      ]
     },
     "execution_count": 30,
     "metadata": {},
     "output_type": "execute_result"
    }
   ],
   "source": [
    "df_dsa.head()"
   ]
  },
  {
   "cell_type": "code",
   "execution_count": 31,
   "id": "14f10869",
   "metadata": {},
   "outputs": [],
   "source": [
    "# Convertendo a coluna de data para o tipo datetime para obter o formato adequado\n",
    "df_dsa['Data_Pedido'] = pd.to_datetime(df_dsa['Data_Pedido'], dayfirst = True)"
   ]
  },
  {
   "cell_type": "code",
   "execution_count": 32,
   "id": "2e9bc1ea",
   "metadata": {},
   "outputs": [
    {
     "data": {
      "text/plain": [
       "ID_Pedido               object\n",
       "Data_Pedido     datetime64[ns]\n",
       "ID_Cliente              object\n",
       "Segmento                object\n",
       "Pais                    object\n",
       "Cidade                  object\n",
       "Estado                  object\n",
       "ID_Produto              object\n",
       "Categoria               object\n",
       "SubCategoria            object\n",
       "Valor_Venda            float64\n",
       "dtype: object"
      ]
     },
     "execution_count": 32,
     "metadata": {},
     "output_type": "execute_result"
    }
   ],
   "source": [
    "df_dsa.dtypes"
   ]
  },
  {
   "cell_type": "code",
   "execution_count": 33,
   "id": "df107149",
   "metadata": {},
   "outputs": [],
   "source": [
    "# Criando a coluna 'Ano'\n",
    "df_dsa['Ano'] = df_dsa['Data_Pedido'].dt.year"
   ]
  },
  {
   "cell_type": "code",
   "execution_count": 34,
   "id": "bd908319",
   "metadata": {
    "scrolled": true
   },
   "outputs": [
    {
     "data": {
      "text/html": [
       "<div>\n",
       "<style scoped>\n",
       "    .dataframe tbody tr th:only-of-type {\n",
       "        vertical-align: middle;\n",
       "    }\n",
       "\n",
       "    .dataframe tbody tr th {\n",
       "        vertical-align: top;\n",
       "    }\n",
       "\n",
       "    .dataframe thead th {\n",
       "        text-align: right;\n",
       "    }\n",
       "</style>\n",
       "<table border=\"1\" class=\"dataframe\">\n",
       "  <thead>\n",
       "    <tr style=\"text-align: right;\">\n",
       "      <th></th>\n",
       "      <th>ID_Pedido</th>\n",
       "      <th>Data_Pedido</th>\n",
       "      <th>ID_Cliente</th>\n",
       "      <th>Segmento</th>\n",
       "      <th>Pais</th>\n",
       "      <th>Cidade</th>\n",
       "      <th>Estado</th>\n",
       "      <th>ID_Produto</th>\n",
       "      <th>Categoria</th>\n",
       "      <th>SubCategoria</th>\n",
       "      <th>Valor_Venda</th>\n",
       "      <th>Ano</th>\n",
       "    </tr>\n",
       "  </thead>\n",
       "  <tbody>\n",
       "    <tr>\n",
       "      <th>0</th>\n",
       "      <td>CA-2017-152156</td>\n",
       "      <td>2017-11-08</td>\n",
       "      <td>CG-12520</td>\n",
       "      <td>Consumer</td>\n",
       "      <td>United States</td>\n",
       "      <td>Henderson</td>\n",
       "      <td>Kentucky</td>\n",
       "      <td>FUR-BO-10001798</td>\n",
       "      <td>Furniture</td>\n",
       "      <td>Bookcases</td>\n",
       "      <td>261.9600</td>\n",
       "      <td>2017</td>\n",
       "    </tr>\n",
       "    <tr>\n",
       "      <th>1</th>\n",
       "      <td>CA-2017-152156</td>\n",
       "      <td>2017-11-08</td>\n",
       "      <td>CG-12520</td>\n",
       "      <td>Consumer</td>\n",
       "      <td>United States</td>\n",
       "      <td>Henderson</td>\n",
       "      <td>Kentucky</td>\n",
       "      <td>FUR-CH-10000454</td>\n",
       "      <td>Furniture</td>\n",
       "      <td>Chairs</td>\n",
       "      <td>731.9400</td>\n",
       "      <td>2017</td>\n",
       "    </tr>\n",
       "    <tr>\n",
       "      <th>2</th>\n",
       "      <td>CA-2017-138688</td>\n",
       "      <td>2017-06-12</td>\n",
       "      <td>DV-13045</td>\n",
       "      <td>Corporate</td>\n",
       "      <td>United States</td>\n",
       "      <td>Los Angeles</td>\n",
       "      <td>California</td>\n",
       "      <td>OFF-LA-10000240</td>\n",
       "      <td>Office Supplies</td>\n",
       "      <td>Labels</td>\n",
       "      <td>14.6200</td>\n",
       "      <td>2017</td>\n",
       "    </tr>\n",
       "    <tr>\n",
       "      <th>3</th>\n",
       "      <td>US-2016-108966</td>\n",
       "      <td>2016-10-11</td>\n",
       "      <td>SO-20335</td>\n",
       "      <td>Consumer</td>\n",
       "      <td>United States</td>\n",
       "      <td>Fort Lauderdale</td>\n",
       "      <td>Florida</td>\n",
       "      <td>FUR-TA-10000577</td>\n",
       "      <td>Furniture</td>\n",
       "      <td>Tables</td>\n",
       "      <td>957.5775</td>\n",
       "      <td>2016</td>\n",
       "    </tr>\n",
       "    <tr>\n",
       "      <th>4</th>\n",
       "      <td>US-2016-108966</td>\n",
       "      <td>2016-10-11</td>\n",
       "      <td>SO-20335</td>\n",
       "      <td>Consumer</td>\n",
       "      <td>United States</td>\n",
       "      <td>Fort Lauderdale</td>\n",
       "      <td>Florida</td>\n",
       "      <td>OFF-ST-10000760</td>\n",
       "      <td>Office Supplies</td>\n",
       "      <td>Storage</td>\n",
       "      <td>22.3680</td>\n",
       "      <td>2016</td>\n",
       "    </tr>\n",
       "  </tbody>\n",
       "</table>\n",
       "</div>"
      ],
      "text/plain": [
       "        ID_Pedido Data_Pedido ID_Cliente   Segmento           Pais  \\\n",
       "0  CA-2017-152156  2017-11-08   CG-12520   Consumer  United States   \n",
       "1  CA-2017-152156  2017-11-08   CG-12520   Consumer  United States   \n",
       "2  CA-2017-138688  2017-06-12   DV-13045  Corporate  United States   \n",
       "3  US-2016-108966  2016-10-11   SO-20335   Consumer  United States   \n",
       "4  US-2016-108966  2016-10-11   SO-20335   Consumer  United States   \n",
       "\n",
       "            Cidade      Estado       ID_Produto        Categoria SubCategoria  \\\n",
       "0        Henderson    Kentucky  FUR-BO-10001798        Furniture    Bookcases   \n",
       "1        Henderson    Kentucky  FUR-CH-10000454        Furniture       Chairs   \n",
       "2      Los Angeles  California  OFF-LA-10000240  Office Supplies       Labels   \n",
       "3  Fort Lauderdale     Florida  FUR-TA-10000577        Furniture       Tables   \n",
       "4  Fort Lauderdale     Florida  OFF-ST-10000760  Office Supplies      Storage   \n",
       "\n",
       "   Valor_Venda   Ano  \n",
       "0     261.9600  2017  \n",
       "1     731.9400  2017  \n",
       "2      14.6200  2017  \n",
       "3     957.5775  2016  \n",
       "4      22.3680  2016  "
      ]
     },
     "execution_count": 34,
     "metadata": {},
     "output_type": "execute_result"
    }
   ],
   "source": [
    "df_dsa.head()"
   ]
  },
  {
   "attachments": {},
   "cell_type": "markdown",
   "id": "fa8cd664",
   "metadata": {},
   "source": [
    "Uma nova coluna com o 'Ano' foi inserida no final."
   ]
  },
  {
   "cell_type": "code",
   "execution_count": 35,
   "id": "ffd16a62",
   "metadata": {},
   "outputs": [],
   "source": [
    "# Total de vendas por segmento e por ano\n",
    "df_dsa_p6 = df_dsa.groupby(['Ano', 'Segmento'])['Valor_Venda'].sum()"
   ]
  },
  {
   "cell_type": "code",
   "execution_count": 36,
   "id": "e5e06dd2",
   "metadata": {},
   "outputs": [
    {
     "data": {
      "text/plain": [
       "Ano   Segmento   \n",
       "2015  Consumer       256719.9166\n",
       "      Corporate      125819.5957\n",
       "      Home Office     88229.0878\n",
       "2016  Consumer       265295.2593\n",
       "      Corporate      114643.1229\n",
       "      Home Office     74134.1332\n",
       "2017  Consumer       288459.5572\n",
       "      Corporate      203266.7398\n",
       "      Home Office    103639.6270\n",
       "2018  Consumer       323359.6019\n",
       "      Corporate      235502.7284\n",
       "      Home Office    156488.5849\n",
       "Name: Valor_Venda, dtype: float64"
      ]
     },
     "execution_count": 36,
     "metadata": {},
     "output_type": "execute_result"
    }
   ],
   "source": [
    "df_dsa_p6"
   ]
  },
  {
   "attachments": {},
   "cell_type": "markdown",
   "id": "56fbe644",
   "metadata": {},
   "source": [
    "## Pergunta de Negócio 7:\n",
    "\n",
    "Os gestores da empresa estão considerando conceder diferentes faixas de descontos e gostariam de fazer uma simulação com base na regra abaixo:\n",
    "\n",
    "- Se o Valor_Venda for maior que 1000 recebe 15% de desconto.\n",
    "- Se o Valor_Venda for menor que 1000 recebe 10% de desconto.\n",
    "\n",
    "### Quantas Vendas Receberiam 15% de Desconto?"
   ]
  },
  {
   "cell_type": "code",
   "execution_count": 37,
   "id": "5735af66",
   "metadata": {},
   "outputs": [],
   "source": [
    "# Criando uma nova coluna de acordo com a regra acima\n",
    "df_dsa['Desconto'] = np.where(df_dsa['Valor_Venda'] > 1000, 0.15, 0.10)"
   ]
  },
  {
   "cell_type": "code",
   "execution_count": 38,
   "id": "41833407",
   "metadata": {
    "scrolled": false
   },
   "outputs": [
    {
     "data": {
      "text/html": [
       "<div>\n",
       "<style scoped>\n",
       "    .dataframe tbody tr th:only-of-type {\n",
       "        vertical-align: middle;\n",
       "    }\n",
       "\n",
       "    .dataframe tbody tr th {\n",
       "        vertical-align: top;\n",
       "    }\n",
       "\n",
       "    .dataframe thead th {\n",
       "        text-align: right;\n",
       "    }\n",
       "</style>\n",
       "<table border=\"1\" class=\"dataframe\">\n",
       "  <thead>\n",
       "    <tr style=\"text-align: right;\">\n",
       "      <th></th>\n",
       "      <th>ID_Pedido</th>\n",
       "      <th>Data_Pedido</th>\n",
       "      <th>ID_Cliente</th>\n",
       "      <th>Segmento</th>\n",
       "      <th>Pais</th>\n",
       "      <th>Cidade</th>\n",
       "      <th>Estado</th>\n",
       "      <th>ID_Produto</th>\n",
       "      <th>Categoria</th>\n",
       "      <th>SubCategoria</th>\n",
       "      <th>Valor_Venda</th>\n",
       "      <th>Ano</th>\n",
       "      <th>Desconto</th>\n",
       "    </tr>\n",
       "  </thead>\n",
       "  <tbody>\n",
       "    <tr>\n",
       "      <th>0</th>\n",
       "      <td>CA-2017-152156</td>\n",
       "      <td>2017-11-08</td>\n",
       "      <td>CG-12520</td>\n",
       "      <td>Consumer</td>\n",
       "      <td>United States</td>\n",
       "      <td>Henderson</td>\n",
       "      <td>Kentucky</td>\n",
       "      <td>FUR-BO-10001798</td>\n",
       "      <td>Furniture</td>\n",
       "      <td>Bookcases</td>\n",
       "      <td>261.9600</td>\n",
       "      <td>2017</td>\n",
       "      <td>0.1</td>\n",
       "    </tr>\n",
       "    <tr>\n",
       "      <th>1</th>\n",
       "      <td>CA-2017-152156</td>\n",
       "      <td>2017-11-08</td>\n",
       "      <td>CG-12520</td>\n",
       "      <td>Consumer</td>\n",
       "      <td>United States</td>\n",
       "      <td>Henderson</td>\n",
       "      <td>Kentucky</td>\n",
       "      <td>FUR-CH-10000454</td>\n",
       "      <td>Furniture</td>\n",
       "      <td>Chairs</td>\n",
       "      <td>731.9400</td>\n",
       "      <td>2017</td>\n",
       "      <td>0.1</td>\n",
       "    </tr>\n",
       "    <tr>\n",
       "      <th>2</th>\n",
       "      <td>CA-2017-138688</td>\n",
       "      <td>2017-06-12</td>\n",
       "      <td>DV-13045</td>\n",
       "      <td>Corporate</td>\n",
       "      <td>United States</td>\n",
       "      <td>Los Angeles</td>\n",
       "      <td>California</td>\n",
       "      <td>OFF-LA-10000240</td>\n",
       "      <td>Office Supplies</td>\n",
       "      <td>Labels</td>\n",
       "      <td>14.6200</td>\n",
       "      <td>2017</td>\n",
       "      <td>0.1</td>\n",
       "    </tr>\n",
       "    <tr>\n",
       "      <th>3</th>\n",
       "      <td>US-2016-108966</td>\n",
       "      <td>2016-10-11</td>\n",
       "      <td>SO-20335</td>\n",
       "      <td>Consumer</td>\n",
       "      <td>United States</td>\n",
       "      <td>Fort Lauderdale</td>\n",
       "      <td>Florida</td>\n",
       "      <td>FUR-TA-10000577</td>\n",
       "      <td>Furniture</td>\n",
       "      <td>Tables</td>\n",
       "      <td>957.5775</td>\n",
       "      <td>2016</td>\n",
       "      <td>0.1</td>\n",
       "    </tr>\n",
       "    <tr>\n",
       "      <th>4</th>\n",
       "      <td>US-2016-108966</td>\n",
       "      <td>2016-10-11</td>\n",
       "      <td>SO-20335</td>\n",
       "      <td>Consumer</td>\n",
       "      <td>United States</td>\n",
       "      <td>Fort Lauderdale</td>\n",
       "      <td>Florida</td>\n",
       "      <td>OFF-ST-10000760</td>\n",
       "      <td>Office Supplies</td>\n",
       "      <td>Storage</td>\n",
       "      <td>22.3680</td>\n",
       "      <td>2016</td>\n",
       "      <td>0.1</td>\n",
       "    </tr>\n",
       "  </tbody>\n",
       "</table>\n",
       "</div>"
      ],
      "text/plain": [
       "        ID_Pedido Data_Pedido ID_Cliente   Segmento           Pais  \\\n",
       "0  CA-2017-152156  2017-11-08   CG-12520   Consumer  United States   \n",
       "1  CA-2017-152156  2017-11-08   CG-12520   Consumer  United States   \n",
       "2  CA-2017-138688  2017-06-12   DV-13045  Corporate  United States   \n",
       "3  US-2016-108966  2016-10-11   SO-20335   Consumer  United States   \n",
       "4  US-2016-108966  2016-10-11   SO-20335   Consumer  United States   \n",
       "\n",
       "            Cidade      Estado       ID_Produto        Categoria SubCategoria  \\\n",
       "0        Henderson    Kentucky  FUR-BO-10001798        Furniture    Bookcases   \n",
       "1        Henderson    Kentucky  FUR-CH-10000454        Furniture       Chairs   \n",
       "2      Los Angeles  California  OFF-LA-10000240  Office Supplies       Labels   \n",
       "3  Fort Lauderdale     Florida  FUR-TA-10000577        Furniture       Tables   \n",
       "4  Fort Lauderdale     Florida  OFF-ST-10000760  Office Supplies      Storage   \n",
       "\n",
       "   Valor_Venda   Ano  Desconto  \n",
       "0     261.9600  2017       0.1  \n",
       "1     731.9400  2017       0.1  \n",
       "2      14.6200  2017       0.1  \n",
       "3     957.5775  2016       0.1  \n",
       "4      22.3680  2016       0.1  "
      ]
     },
     "execution_count": 38,
     "metadata": {},
     "output_type": "execute_result"
    }
   ],
   "source": [
    "df_dsa.head()"
   ]
  },
  {
   "attachments": {},
   "cell_type": "markdown",
   "id": "bb70a3bf",
   "metadata": {},
   "source": [
    "Uma nova coluna com a taxa de desconto foi inserida no final"
   ]
  },
  {
   "cell_type": "code",
   "execution_count": 39,
   "id": "03e36cd3",
   "metadata": {},
   "outputs": [
    {
     "data": {
      "text/plain": [
       "0.10    9243\n",
       "0.15     457\n",
       "Name: Desconto, dtype: int64"
      ]
     },
     "execution_count": 39,
     "metadata": {},
     "output_type": "execute_result"
    }
   ],
   "source": [
    "# Total por cada valor da variável\n",
    "df_dsa['Desconto'].value_counts()"
   ]
  },
  {
   "attachments": {},
   "cell_type": "markdown",
   "id": "f77ff647",
   "metadata": {},
   "source": [
    "No Total 457 Vendas Receberiam Desconto de 15%."
   ]
  },
  {
   "attachments": {},
   "cell_type": "markdown",
   "id": "f313c42a",
   "metadata": {},
   "source": [
    "## Pergunta de Negócio 8:\n",
    "\n",
    "### Considere Que a Empresa Decida Conceder o Desconto de 15% do Item Anterior. Qual Seria a Média do Valor de Venda Antes e Depois do Desconto?"
   ]
  },
  {
   "cell_type": "code",
   "execution_count": 40,
   "id": "47b8f2a4",
   "metadata": {},
   "outputs": [],
   "source": [
    "# Criando uma coluna que mostra o valor de venda menos o desconto\n",
    "df_dsa['Valor_Venda_Desconto'] = df_dsa['Valor_Venda'] - (df_dsa['Valor_Venda'] * df_dsa['Desconto'])"
   ]
  },
  {
   "cell_type": "code",
   "execution_count": 41,
   "id": "98bd7542",
   "metadata": {
    "scrolled": true
   },
   "outputs": [
    {
     "data": {
      "text/html": [
       "<div>\n",
       "<style scoped>\n",
       "    .dataframe tbody tr th:only-of-type {\n",
       "        vertical-align: middle;\n",
       "    }\n",
       "\n",
       "    .dataframe tbody tr th {\n",
       "        vertical-align: top;\n",
       "    }\n",
       "\n",
       "    .dataframe thead th {\n",
       "        text-align: right;\n",
       "    }\n",
       "</style>\n",
       "<table border=\"1\" class=\"dataframe\">\n",
       "  <thead>\n",
       "    <tr style=\"text-align: right;\">\n",
       "      <th></th>\n",
       "      <th>ID_Pedido</th>\n",
       "      <th>Data_Pedido</th>\n",
       "      <th>ID_Cliente</th>\n",
       "      <th>Segmento</th>\n",
       "      <th>Pais</th>\n",
       "      <th>Cidade</th>\n",
       "      <th>Estado</th>\n",
       "      <th>ID_Produto</th>\n",
       "      <th>Categoria</th>\n",
       "      <th>SubCategoria</th>\n",
       "      <th>Valor_Venda</th>\n",
       "      <th>Ano</th>\n",
       "      <th>Desconto</th>\n",
       "      <th>Valor_Venda_Desconto</th>\n",
       "    </tr>\n",
       "  </thead>\n",
       "  <tbody>\n",
       "    <tr>\n",
       "      <th>0</th>\n",
       "      <td>CA-2017-152156</td>\n",
       "      <td>2017-11-08</td>\n",
       "      <td>CG-12520</td>\n",
       "      <td>Consumer</td>\n",
       "      <td>United States</td>\n",
       "      <td>Henderson</td>\n",
       "      <td>Kentucky</td>\n",
       "      <td>FUR-BO-10001798</td>\n",
       "      <td>Furniture</td>\n",
       "      <td>Bookcases</td>\n",
       "      <td>261.9600</td>\n",
       "      <td>2017</td>\n",
       "      <td>0.1</td>\n",
       "      <td>235.76400</td>\n",
       "    </tr>\n",
       "    <tr>\n",
       "      <th>1</th>\n",
       "      <td>CA-2017-152156</td>\n",
       "      <td>2017-11-08</td>\n",
       "      <td>CG-12520</td>\n",
       "      <td>Consumer</td>\n",
       "      <td>United States</td>\n",
       "      <td>Henderson</td>\n",
       "      <td>Kentucky</td>\n",
       "      <td>FUR-CH-10000454</td>\n",
       "      <td>Furniture</td>\n",
       "      <td>Chairs</td>\n",
       "      <td>731.9400</td>\n",
       "      <td>2017</td>\n",
       "      <td>0.1</td>\n",
       "      <td>658.74600</td>\n",
       "    </tr>\n",
       "    <tr>\n",
       "      <th>2</th>\n",
       "      <td>CA-2017-138688</td>\n",
       "      <td>2017-06-12</td>\n",
       "      <td>DV-13045</td>\n",
       "      <td>Corporate</td>\n",
       "      <td>United States</td>\n",
       "      <td>Los Angeles</td>\n",
       "      <td>California</td>\n",
       "      <td>OFF-LA-10000240</td>\n",
       "      <td>Office Supplies</td>\n",
       "      <td>Labels</td>\n",
       "      <td>14.6200</td>\n",
       "      <td>2017</td>\n",
       "      <td>0.1</td>\n",
       "      <td>13.15800</td>\n",
       "    </tr>\n",
       "    <tr>\n",
       "      <th>3</th>\n",
       "      <td>US-2016-108966</td>\n",
       "      <td>2016-10-11</td>\n",
       "      <td>SO-20335</td>\n",
       "      <td>Consumer</td>\n",
       "      <td>United States</td>\n",
       "      <td>Fort Lauderdale</td>\n",
       "      <td>Florida</td>\n",
       "      <td>FUR-TA-10000577</td>\n",
       "      <td>Furniture</td>\n",
       "      <td>Tables</td>\n",
       "      <td>957.5775</td>\n",
       "      <td>2016</td>\n",
       "      <td>0.1</td>\n",
       "      <td>861.81975</td>\n",
       "    </tr>\n",
       "    <tr>\n",
       "      <th>4</th>\n",
       "      <td>US-2016-108966</td>\n",
       "      <td>2016-10-11</td>\n",
       "      <td>SO-20335</td>\n",
       "      <td>Consumer</td>\n",
       "      <td>United States</td>\n",
       "      <td>Fort Lauderdale</td>\n",
       "      <td>Florida</td>\n",
       "      <td>OFF-ST-10000760</td>\n",
       "      <td>Office Supplies</td>\n",
       "      <td>Storage</td>\n",
       "      <td>22.3680</td>\n",
       "      <td>2016</td>\n",
       "      <td>0.1</td>\n",
       "      <td>20.13120</td>\n",
       "    </tr>\n",
       "  </tbody>\n",
       "</table>\n",
       "</div>"
      ],
      "text/plain": [
       "        ID_Pedido Data_Pedido ID_Cliente   Segmento           Pais  \\\n",
       "0  CA-2017-152156  2017-11-08   CG-12520   Consumer  United States   \n",
       "1  CA-2017-152156  2017-11-08   CG-12520   Consumer  United States   \n",
       "2  CA-2017-138688  2017-06-12   DV-13045  Corporate  United States   \n",
       "3  US-2016-108966  2016-10-11   SO-20335   Consumer  United States   \n",
       "4  US-2016-108966  2016-10-11   SO-20335   Consumer  United States   \n",
       "\n",
       "            Cidade      Estado       ID_Produto        Categoria SubCategoria  \\\n",
       "0        Henderson    Kentucky  FUR-BO-10001798        Furniture    Bookcases   \n",
       "1        Henderson    Kentucky  FUR-CH-10000454        Furniture       Chairs   \n",
       "2      Los Angeles  California  OFF-LA-10000240  Office Supplies       Labels   \n",
       "3  Fort Lauderdale     Florida  FUR-TA-10000577        Furniture       Tables   \n",
       "4  Fort Lauderdale     Florida  OFF-ST-10000760  Office Supplies      Storage   \n",
       "\n",
       "   Valor_Venda   Ano  Desconto  Valor_Venda_Desconto  \n",
       "0     261.9600  2017       0.1             235.76400  \n",
       "1     731.9400  2017       0.1             658.74600  \n",
       "2      14.6200  2017       0.1              13.15800  \n",
       "3     957.5775  2016       0.1             861.81975  \n",
       "4      22.3680  2016       0.1              20.13120  "
      ]
     },
     "execution_count": 41,
     "metadata": {},
     "output_type": "execute_result"
    }
   ],
   "source": [
    "df_dsa.head()"
   ]
  },
  {
   "attachments": {},
   "cell_type": "markdown",
   "id": "08516064",
   "metadata": {},
   "source": [
    "Uma nova coluna com o valor de venda com o desconto aplicado foi inserida no final."
   ]
  },
  {
   "cell_type": "code",
   "execution_count": 42,
   "id": "6b37bc77",
   "metadata": {},
   "outputs": [],
   "source": [
    "# Filtrando as vendas antes do desconto de 15%\n",
    "df_dsa_p8_vendas_antes_desconto = df_dsa.loc[df_dsa['Desconto'] == 0.15, 'Valor_Venda']"
   ]
  },
  {
   "cell_type": "code",
   "execution_count": 43,
   "id": "935843bf",
   "metadata": {},
   "outputs": [],
   "source": [
    "# Filtrando as vendas depois do desconto de 15%\n",
    "df_dsa_p8_vendas_depois_desconto = df_dsa.loc[df_dsa['Desconto'] == 0.15, 'Valor_Venda_Desconto']"
   ]
  },
  {
   "cell_type": "code",
   "execution_count": 44,
   "id": "0ae67125",
   "metadata": {},
   "outputs": [],
   "source": [
    "# Calculando a média das vendas antes do desconto de 15%\n",
    "media_vendas_antes_desconto = df_dsa_p8_vendas_antes_desconto.mean()"
   ]
  },
  {
   "cell_type": "code",
   "execution_count": 45,
   "id": "6fa3ba05",
   "metadata": {},
   "outputs": [],
   "source": [
    "# Calculando a média das vendas depois do desconto de 15%\n",
    "media_vendas_depois_desconto = df_dsa_p8_vendas_depois_desconto.mean()"
   ]
  },
  {
   "cell_type": "code",
   "execution_count": 46,
   "id": "e01664ba",
   "metadata": {},
   "outputs": [
    {
     "name": "stdout",
     "output_type": "stream",
     "text": [
      "Média das vendas antes do desconto de 15%: 2116.81\n"
     ]
    }
   ],
   "source": [
    "print(\"Média das vendas antes do desconto de 15%:\", round(media_vendas_antes_desconto, 2))"
   ]
  },
  {
   "cell_type": "code",
   "execution_count": 47,
   "id": "1cf824d6",
   "metadata": {},
   "outputs": [
    {
     "name": "stdout",
     "output_type": "stream",
     "text": [
      "Média das vendas depois do desconto de 15%: 1799.29\n"
     ]
    }
   ],
   "source": [
    "print(\"Média das vendas depois do desconto de 15%:\", round(media_vendas_depois_desconto, 2))"
   ]
  },
  {
   "attachments": {},
   "cell_type": "markdown",
   "id": "149e1214",
   "metadata": {},
   "source": [
    "## Pergunta de Negócio 9:\n",
    "\n",
    "### Qual o Média de Vendas Por Segmento, Por Ano e Por Mês?"
   ]
  },
  {
   "cell_type": "code",
   "execution_count": 48,
   "id": "1eed1a02",
   "metadata": {},
   "outputs": [],
   "source": [
    "# Extraindo o mês e gravando em uma nova variável\n",
    "df_dsa['Mes'] = df_dsa['Data_Pedido'].dt.month"
   ]
  },
  {
   "cell_type": "code",
   "execution_count": 49,
   "id": "88d128c7",
   "metadata": {
    "scrolled": true
   },
   "outputs": [
    {
     "data": {
      "text/html": [
       "<div>\n",
       "<style scoped>\n",
       "    .dataframe tbody tr th:only-of-type {\n",
       "        vertical-align: middle;\n",
       "    }\n",
       "\n",
       "    .dataframe tbody tr th {\n",
       "        vertical-align: top;\n",
       "    }\n",
       "\n",
       "    .dataframe thead th {\n",
       "        text-align: right;\n",
       "    }\n",
       "</style>\n",
       "<table border=\"1\" class=\"dataframe\">\n",
       "  <thead>\n",
       "    <tr style=\"text-align: right;\">\n",
       "      <th></th>\n",
       "      <th>ID_Pedido</th>\n",
       "      <th>Data_Pedido</th>\n",
       "      <th>ID_Cliente</th>\n",
       "      <th>Segmento</th>\n",
       "      <th>Pais</th>\n",
       "      <th>Cidade</th>\n",
       "      <th>Estado</th>\n",
       "      <th>ID_Produto</th>\n",
       "      <th>Categoria</th>\n",
       "      <th>SubCategoria</th>\n",
       "      <th>Valor_Venda</th>\n",
       "      <th>Ano</th>\n",
       "      <th>Desconto</th>\n",
       "      <th>Valor_Venda_Desconto</th>\n",
       "      <th>Mes</th>\n",
       "    </tr>\n",
       "  </thead>\n",
       "  <tbody>\n",
       "    <tr>\n",
       "      <th>0</th>\n",
       "      <td>CA-2017-152156</td>\n",
       "      <td>2017-11-08</td>\n",
       "      <td>CG-12520</td>\n",
       "      <td>Consumer</td>\n",
       "      <td>United States</td>\n",
       "      <td>Henderson</td>\n",
       "      <td>Kentucky</td>\n",
       "      <td>FUR-BO-10001798</td>\n",
       "      <td>Furniture</td>\n",
       "      <td>Bookcases</td>\n",
       "      <td>261.9600</td>\n",
       "      <td>2017</td>\n",
       "      <td>0.1</td>\n",
       "      <td>235.76400</td>\n",
       "      <td>11</td>\n",
       "    </tr>\n",
       "    <tr>\n",
       "      <th>1</th>\n",
       "      <td>CA-2017-152156</td>\n",
       "      <td>2017-11-08</td>\n",
       "      <td>CG-12520</td>\n",
       "      <td>Consumer</td>\n",
       "      <td>United States</td>\n",
       "      <td>Henderson</td>\n",
       "      <td>Kentucky</td>\n",
       "      <td>FUR-CH-10000454</td>\n",
       "      <td>Furniture</td>\n",
       "      <td>Chairs</td>\n",
       "      <td>731.9400</td>\n",
       "      <td>2017</td>\n",
       "      <td>0.1</td>\n",
       "      <td>658.74600</td>\n",
       "      <td>11</td>\n",
       "    </tr>\n",
       "    <tr>\n",
       "      <th>2</th>\n",
       "      <td>CA-2017-138688</td>\n",
       "      <td>2017-06-12</td>\n",
       "      <td>DV-13045</td>\n",
       "      <td>Corporate</td>\n",
       "      <td>United States</td>\n",
       "      <td>Los Angeles</td>\n",
       "      <td>California</td>\n",
       "      <td>OFF-LA-10000240</td>\n",
       "      <td>Office Supplies</td>\n",
       "      <td>Labels</td>\n",
       "      <td>14.6200</td>\n",
       "      <td>2017</td>\n",
       "      <td>0.1</td>\n",
       "      <td>13.15800</td>\n",
       "      <td>6</td>\n",
       "    </tr>\n",
       "    <tr>\n",
       "      <th>3</th>\n",
       "      <td>US-2016-108966</td>\n",
       "      <td>2016-10-11</td>\n",
       "      <td>SO-20335</td>\n",
       "      <td>Consumer</td>\n",
       "      <td>United States</td>\n",
       "      <td>Fort Lauderdale</td>\n",
       "      <td>Florida</td>\n",
       "      <td>FUR-TA-10000577</td>\n",
       "      <td>Furniture</td>\n",
       "      <td>Tables</td>\n",
       "      <td>957.5775</td>\n",
       "      <td>2016</td>\n",
       "      <td>0.1</td>\n",
       "      <td>861.81975</td>\n",
       "      <td>10</td>\n",
       "    </tr>\n",
       "    <tr>\n",
       "      <th>4</th>\n",
       "      <td>US-2016-108966</td>\n",
       "      <td>2016-10-11</td>\n",
       "      <td>SO-20335</td>\n",
       "      <td>Consumer</td>\n",
       "      <td>United States</td>\n",
       "      <td>Fort Lauderdale</td>\n",
       "      <td>Florida</td>\n",
       "      <td>OFF-ST-10000760</td>\n",
       "      <td>Office Supplies</td>\n",
       "      <td>Storage</td>\n",
       "      <td>22.3680</td>\n",
       "      <td>2016</td>\n",
       "      <td>0.1</td>\n",
       "      <td>20.13120</td>\n",
       "      <td>10</td>\n",
       "    </tr>\n",
       "  </tbody>\n",
       "</table>\n",
       "</div>"
      ],
      "text/plain": [
       "        ID_Pedido Data_Pedido ID_Cliente   Segmento           Pais  \\\n",
       "0  CA-2017-152156  2017-11-08   CG-12520   Consumer  United States   \n",
       "1  CA-2017-152156  2017-11-08   CG-12520   Consumer  United States   \n",
       "2  CA-2017-138688  2017-06-12   DV-13045  Corporate  United States   \n",
       "3  US-2016-108966  2016-10-11   SO-20335   Consumer  United States   \n",
       "4  US-2016-108966  2016-10-11   SO-20335   Consumer  United States   \n",
       "\n",
       "            Cidade      Estado       ID_Produto        Categoria SubCategoria  \\\n",
       "0        Henderson    Kentucky  FUR-BO-10001798        Furniture    Bookcases   \n",
       "1        Henderson    Kentucky  FUR-CH-10000454        Furniture       Chairs   \n",
       "2      Los Angeles  California  OFF-LA-10000240  Office Supplies       Labels   \n",
       "3  Fort Lauderdale     Florida  FUR-TA-10000577        Furniture       Tables   \n",
       "4  Fort Lauderdale     Florida  OFF-ST-10000760  Office Supplies      Storage   \n",
       "\n",
       "   Valor_Venda   Ano  Desconto  Valor_Venda_Desconto  Mes  \n",
       "0     261.9600  2017       0.1             235.76400   11  \n",
       "1     731.9400  2017       0.1             658.74600   11  \n",
       "2      14.6200  2017       0.1              13.15800    6  \n",
       "3     957.5775  2016       0.1             861.81975   10  \n",
       "4      22.3680  2016       0.1              20.13120   10  "
      ]
     },
     "execution_count": 49,
     "metadata": {},
     "output_type": "execute_result"
    }
   ],
   "source": [
    "df_dsa.head()"
   ]
  },
  {
   "attachments": {},
   "cell_type": "markdown",
   "id": "13e60ffd",
   "metadata": {},
   "source": [
    "Uma nova coluna com o 'Mês' foi inserida no final."
   ]
  },
  {
   "cell_type": "code",
   "execution_count": 53,
   "id": "f1e1b696",
   "metadata": {},
   "outputs": [],
   "source": [
    "# Agrupando por ano, mês e segmento e calculando estatísticas de agregação (soma, média e mediana)\n",
    "df_dsa_p9 = df_dsa.groupby(['Ano', 'Mes', 'Segmento'])['Valor_Venda'].agg([np.sum, np.mean, np.median])"
   ]
  },
  {
   "cell_type": "code",
   "execution_count": 52,
   "id": "bc73e7fb",
   "metadata": {},
   "outputs": [
    {
     "data": {
      "text/html": [
       "<div>\n",
       "<style scoped>\n",
       "    .dataframe tbody tr th:only-of-type {\n",
       "        vertical-align: middle;\n",
       "    }\n",
       "\n",
       "    .dataframe tbody tr th {\n",
       "        vertical-align: top;\n",
       "    }\n",
       "\n",
       "    .dataframe thead th {\n",
       "        text-align: right;\n",
       "    }\n",
       "</style>\n",
       "<table border=\"1\" class=\"dataframe\">\n",
       "  <thead>\n",
       "    <tr style=\"text-align: right;\">\n",
       "      <th></th>\n",
       "      <th></th>\n",
       "      <th></th>\n",
       "      <th>sum</th>\n",
       "      <th>mean</th>\n",
       "      <th>median</th>\n",
       "    </tr>\n",
       "    <tr>\n",
       "      <th>Ano</th>\n",
       "      <th>Mes</th>\n",
       "      <th>Segmento</th>\n",
       "      <th></th>\n",
       "      <th></th>\n",
       "      <th></th>\n",
       "    </tr>\n",
       "  </thead>\n",
       "  <tbody>\n",
       "    <tr>\n",
       "      <th rowspan=\"5\" valign=\"top\">2015</th>\n",
       "      <th rowspan=\"3\" valign=\"top\">1</th>\n",
       "      <th>Consumer</th>\n",
       "      <td>6896.6290</td>\n",
       "      <td>146.736787</td>\n",
       "      <td>36.440</td>\n",
       "    </tr>\n",
       "    <tr>\n",
       "      <th>Corporate</th>\n",
       "      <td>1701.5280</td>\n",
       "      <td>130.886769</td>\n",
       "      <td>51.940</td>\n",
       "    </tr>\n",
       "    <tr>\n",
       "      <th>Home Office</th>\n",
       "      <td>5607.5500</td>\n",
       "      <td>329.855882</td>\n",
       "      <td>62.820</td>\n",
       "    </tr>\n",
       "    <tr>\n",
       "      <th rowspan=\"2\" valign=\"top\">2</th>\n",
       "      <th>Consumer</th>\n",
       "      <td>3167.8540</td>\n",
       "      <td>117.327926</td>\n",
       "      <td>22.776</td>\n",
       "    </tr>\n",
       "    <tr>\n",
       "      <th>Corporate</th>\n",
       "      <td>623.1180</td>\n",
       "      <td>69.235333</td>\n",
       "      <td>62.310</td>\n",
       "    </tr>\n",
       "    <tr>\n",
       "      <th>...</th>\n",
       "      <th>...</th>\n",
       "      <th>...</th>\n",
       "      <td>...</td>\n",
       "      <td>...</td>\n",
       "      <td>...</td>\n",
       "    </tr>\n",
       "    <tr>\n",
       "      <th rowspan=\"5\" valign=\"top\">2018</th>\n",
       "      <th rowspan=\"2\" valign=\"top\">11</th>\n",
       "      <th>Corporate</th>\n",
       "      <td>44357.9862</td>\n",
       "      <td>341.215278</td>\n",
       "      <td>79.530</td>\n",
       "    </tr>\n",
       "    <tr>\n",
       "      <th>Home Office</th>\n",
       "      <td>24009.3840</td>\n",
       "      <td>247.519423</td>\n",
       "      <td>56.560</td>\n",
       "    </tr>\n",
       "    <tr>\n",
       "      <th rowspan=\"3\" valign=\"top\">12</th>\n",
       "      <th>Consumer</th>\n",
       "      <td>48107.4558</td>\n",
       "      <td>183.616244</td>\n",
       "      <td>52.533</td>\n",
       "    </tr>\n",
       "    <tr>\n",
       "      <th>Corporate</th>\n",
       "      <td>20524.4320</td>\n",
       "      <td>153.167403</td>\n",
       "      <td>46.460</td>\n",
       "    </tr>\n",
       "    <tr>\n",
       "      <th>Home Office</th>\n",
       "      <td>13022.3910</td>\n",
       "      <td>224.523983</td>\n",
       "      <td>49.260</td>\n",
       "    </tr>\n",
       "  </tbody>\n",
       "</table>\n",
       "<p>144 rows × 3 columns</p>\n",
       "</div>"
      ],
      "text/plain": [
       "                             sum        mean  median\n",
       "Ano  Mes Segmento                                   \n",
       "2015 1   Consumer      6896.6290  146.736787  36.440\n",
       "         Corporate     1701.5280  130.886769  51.940\n",
       "         Home Office   5607.5500  329.855882  62.820\n",
       "     2   Consumer      3167.8540  117.327926  22.776\n",
       "         Corporate      623.1180   69.235333  62.310\n",
       "...                          ...         ...     ...\n",
       "2018 11  Corporate    44357.9862  341.215278  79.530\n",
       "         Home Office  24009.3840  247.519423  56.560\n",
       "     12  Consumer     48107.4558  183.616244  52.533\n",
       "         Corporate    20524.4320  153.167403  46.460\n",
       "         Home Office  13022.3910  224.523983  49.260\n",
       "\n",
       "[144 rows x 3 columns]"
      ]
     },
     "execution_count": 52,
     "metadata": {},
     "output_type": "execute_result"
    }
   ],
   "source": [
    "df_dsa_p9"
   ]
  },
  {
   "cell_type": "code",
   "execution_count": 54,
   "id": "53cc17d4",
   "metadata": {},
   "outputs": [],
   "source": [
    "# Extraindo os níveis\n",
    "anos = df_dsa_p9.index.get_level_values(0)\n",
    "meses = df_dsa_p9.index.get_level_values(1)\n",
    "segmentos = df_dsa_p9.index.get_level_values(2)"
   ]
  },
  {
   "cell_type": "code",
   "execution_count": 56,
   "id": "591fe913",
   "metadata": {},
   "outputs": [
    {
     "data": {
      "text/plain": [
       "<Figure size 864x432 with 0 Axes>"
      ]
     },
     "metadata": {},
     "output_type": "display_data"
    },
    {
     "data": {
      "image/png": "[encoded data removed]",
      "text/plain": [
       "<Figure size 820.6x720 with 4 Axes>"
      ]
     },
     "metadata": {},
     "output_type": "display_data"
    }
   ],
   "source": [
    "# Plotando o gráfico\n",
    "plt.figure(figsize = (12, 6))\n",
    "sns.set()     # Para mudar a paleta de cores\n",
    "fig1 = sns.relplot(kind = 'line',      # Gráfico de relação\n",
    "                   data = df_dsa_p9, \n",
    "                   y = 'mean', \n",
    "                   x = meses,\n",
    "                   hue = segmentos, \n",
    "                   col = anos,\n",
    "                   col_wrap = 2)\n",
    "plt.show()"
   ]
  },
  {
   "attachments": {},
   "cell_type": "markdown",
   "id": "836ba626",
   "metadata": {},
   "source": [
    "## Pergunta de Negócio 10:\n",
    "\n",
    "### Qual o Total de Vendas Por Categoria e SubCategoria, Considerando Somente as Top 12 SubCategorias? "
   ]
  },
  {
   "cell_type": "code",
   "execution_count": 57,
   "id": "7e7f9439",
   "metadata": {
    "scrolled": true
   },
   "outputs": [
    {
     "data": {
      "text/html": [
       "<div>\n",
       "<style scoped>\n",
       "    .dataframe tbody tr th:only-of-type {\n",
       "        vertical-align: middle;\n",
       "    }\n",
       "\n",
       "    .dataframe tbody tr th {\n",
       "        vertical-align: top;\n",
       "    }\n",
       "\n",
       "    .dataframe thead th {\n",
       "        text-align: right;\n",
       "    }\n",
       "</style>\n",
       "<table border=\"1\" class=\"dataframe\">\n",
       "  <thead>\n",
       "    <tr style=\"text-align: right;\">\n",
       "      <th></th>\n",
       "      <th>ID_Pedido</th>\n",
       "      <th>Data_Pedido</th>\n",
       "      <th>ID_Cliente</th>\n",
       "      <th>Segmento</th>\n",
       "      <th>Pais</th>\n",
       "      <th>Cidade</th>\n",
       "      <th>Estado</th>\n",
       "      <th>ID_Produto</th>\n",
       "      <th>Categoria</th>\n",
       "      <th>SubCategoria</th>\n",
       "      <th>Valor_Venda</th>\n",
       "      <th>Ano</th>\n",
       "      <th>Desconto</th>\n",
       "      <th>Valor_Venda_Desconto</th>\n",
       "      <th>Mes</th>\n",
       "    </tr>\n",
       "  </thead>\n",
       "  <tbody>\n",
       "    <tr>\n",
       "      <th>0</th>\n",
       "      <td>CA-2017-152156</td>\n",
       "      <td>2017-11-08</td>\n",
       "      <td>CG-12520</td>\n",
       "      <td>Consumer</td>\n",
       "      <td>United States</td>\n",
       "      <td>Henderson</td>\n",
       "      <td>Kentucky</td>\n",
       "      <td>FUR-BO-10001798</td>\n",
       "      <td>Furniture</td>\n",
       "      <td>Bookcases</td>\n",
       "      <td>261.9600</td>\n",
       "      <td>2017</td>\n",
       "      <td>0.1</td>\n",
       "      <td>235.76400</td>\n",
       "      <td>11</td>\n",
       "    </tr>\n",
       "    <tr>\n",
       "      <th>1</th>\n",
       "      <td>CA-2017-152156</td>\n",
       "      <td>2017-11-08</td>\n",
       "      <td>CG-12520</td>\n",
       "      <td>Consumer</td>\n",
       "      <td>United States</td>\n",
       "      <td>Henderson</td>\n",
       "      <td>Kentucky</td>\n",
       "      <td>FUR-CH-10000454</td>\n",
       "      <td>Furniture</td>\n",
       "      <td>Chairs</td>\n",
       "      <td>731.9400</td>\n",
       "      <td>2017</td>\n",
       "      <td>0.1</td>\n",
       "      <td>658.74600</td>\n",
       "      <td>11</td>\n",
       "    </tr>\n",
       "    <tr>\n",
       "      <th>2</th>\n",
       "      <td>CA-2017-138688</td>\n",
       "      <td>2017-06-12</td>\n",
       "      <td>DV-13045</td>\n",
       "      <td>Corporate</td>\n",
       "      <td>United States</td>\n",
       "      <td>Los Angeles</td>\n",
       "      <td>California</td>\n",
       "      <td>OFF-LA-10000240</td>\n",
       "      <td>Office Supplies</td>\n",
       "      <td>Labels</td>\n",
       "      <td>14.6200</td>\n",
       "      <td>2017</td>\n",
       "      <td>0.1</td>\n",
       "      <td>13.15800</td>\n",
       "      <td>6</td>\n",
       "    </tr>\n",
       "    <tr>\n",
       "      <th>3</th>\n",
       "      <td>US-2016-108966</td>\n",
       "      <td>2016-10-11</td>\n",
       "      <td>SO-20335</td>\n",
       "      <td>Consumer</td>\n",
       "      <td>United States</td>\n",
       "      <td>Fort Lauderdale</td>\n",
       "      <td>Florida</td>\n",
       "      <td>FUR-TA-10000577</td>\n",
       "      <td>Furniture</td>\n",
       "      <td>Tables</td>\n",
       "      <td>957.5775</td>\n",
       "      <td>2016</td>\n",
       "      <td>0.1</td>\n",
       "      <td>861.81975</td>\n",
       "      <td>10</td>\n",
       "    </tr>\n",
       "    <tr>\n",
       "      <th>4</th>\n",
       "      <td>US-2016-108966</td>\n",
       "      <td>2016-10-11</td>\n",
       "      <td>SO-20335</td>\n",
       "      <td>Consumer</td>\n",
       "      <td>United States</td>\n",
       "      <td>Fort Lauderdale</td>\n",
       "      <td>Florida</td>\n",
       "      <td>OFF-ST-10000760</td>\n",
       "      <td>Office Supplies</td>\n",
       "      <td>Storage</td>\n",
       "      <td>22.3680</td>\n",
       "      <td>2016</td>\n",
       "      <td>0.1</td>\n",
       "      <td>20.13120</td>\n",
       "      <td>10</td>\n",
       "    </tr>\n",
       "  </tbody>\n",
       "</table>\n",
       "</div>"
      ],
      "text/plain": [
       "        ID_Pedido Data_Pedido ID_Cliente   Segmento           Pais  \\\n",
       "0  CA-2017-152156  2017-11-08   CG-12520   Consumer  United States   \n",
       "1  CA-2017-152156  2017-11-08   CG-12520   Consumer  United States   \n",
       "2  CA-2017-138688  2017-06-12   DV-13045  Corporate  United States   \n",
       "3  US-2016-108966  2016-10-11   SO-20335   Consumer  United States   \n",
       "4  US-2016-108966  2016-10-11   SO-20335   Consumer  United States   \n",
       "\n",
       "            Cidade      Estado       ID_Produto        Categoria SubCategoria  \\\n",
       "0        Henderson    Kentucky  FUR-BO-10001798        Furniture    Bookcases   \n",
       "1        Henderson    Kentucky  FUR-CH-10000454        Furniture       Chairs   \n",
       "2      Los Angeles  California  OFF-LA-10000240  Office Supplies       Labels   \n",
       "3  Fort Lauderdale     Florida  FUR-TA-10000577        Furniture       Tables   \n",
       "4  Fort Lauderdale     Florida  OFF-ST-10000760  Office Supplies      Storage   \n",
       "\n",
       "   Valor_Venda   Ano  Desconto  Valor_Venda_Desconto  Mes  \n",
       "0     261.9600  2017       0.1             235.76400   11  \n",
       "1     731.9400  2017       0.1             658.74600   11  \n",
       "2      14.6200  2017       0.1              13.15800    6  \n",
       "3     957.5775  2016       0.1             861.81975   10  \n",
       "4      22.3680  2016       0.1              20.13120   10  "
      ]
     },
     "execution_count": 57,
     "metadata": {},
     "output_type": "execute_result"
    }
   ],
   "source": [
    "df_dsa.head()"
   ]
  },
  {
   "attachments": {},
   "cell_type": "markdown",
   "id": "46261392",
   "metadata": {},
   "source": [
    "As colunas \"Categoria\" e \"Subcategoria\" já existem."
   ]
  },
  {
   "cell_type": "code",
   "execution_count": 58,
   "id": "53808b99",
   "metadata": {},
   "outputs": [],
   "source": [
    "# Agrupando por categoria e subcategoria, e calculando a soma somente para variáveus numéricas\n",
    "df_dsa_p10 = df_dsa.groupby(['Categoria',\n",
    "                             'SubCategoria']).sum(numeric_only = True).sort_values('Valor_Venda',\n",
    "                                                                                   ascending = False).head(12)"
   ]
  },
  {
   "cell_type": "code",
   "execution_count": 59,
   "id": "c199084c",
   "metadata": {},
   "outputs": [],
   "source": [
    "# Convertendo a coluna Valor_Venda em número inteiro e classificando por categoria\n",
    "df_dsa_p10 = df_dsa_p10[['Valor_Venda']].astype(int).sort_values(by = 'Categoria').reset_index()"
   ]
  },
  {
   "attachments": {},
   "cell_type": "markdown",
   "id": "ad5478f8",
   "metadata": {},
   "source": [
    "Classificar o item acima por categoria foi importante para preencher o gráfico com as subcategorias para cada categoria de forma ordenada."
   ]
  },
  {
   "cell_type": "code",
   "execution_count": 60,
   "id": "b8f85800",
   "metadata": {},
   "outputs": [
    {
     "data": {
      "text/html": [
       "<div>\n",
       "<style scoped>\n",
       "    .dataframe tbody tr th:only-of-type {\n",
       "        vertical-align: middle;\n",
       "    }\n",
       "\n",
       "    .dataframe tbody tr th {\n",
       "        vertical-align: top;\n",
       "    }\n",
       "\n",
       "    .dataframe thead th {\n",
       "        text-align: right;\n",
       "    }\n",
       "</style>\n",
       "<table border=\"1\" class=\"dataframe\">\n",
       "  <thead>\n",
       "    <tr style=\"text-align: right;\">\n",
       "      <th></th>\n",
       "      <th>Categoria</th>\n",
       "      <th>SubCategoria</th>\n",
       "      <th>Valor_Venda</th>\n",
       "    </tr>\n",
       "  </thead>\n",
       "  <tbody>\n",
       "    <tr>\n",
       "      <th>0</th>\n",
       "      <td>Furniture</td>\n",
       "      <td>Chairs</td>\n",
       "      <td>317919</td>\n",
       "    </tr>\n",
       "    <tr>\n",
       "      <th>1</th>\n",
       "      <td>Furniture</td>\n",
       "      <td>Tables</td>\n",
       "      <td>202083</td>\n",
       "    </tr>\n",
       "    <tr>\n",
       "      <th>2</th>\n",
       "      <td>Furniture</td>\n",
       "      <td>Bookcases</td>\n",
       "      <td>108045</td>\n",
       "    </tr>\n",
       "    <tr>\n",
       "      <th>3</th>\n",
       "      <td>Furniture</td>\n",
       "      <td>Furnishings</td>\n",
       "      <td>88862</td>\n",
       "    </tr>\n",
       "    <tr>\n",
       "      <th>4</th>\n",
       "      <td>Office Supplies</td>\n",
       "      <td>Storage</td>\n",
       "      <td>216188</td>\n",
       "    </tr>\n",
       "    <tr>\n",
       "      <th>5</th>\n",
       "      <td>Office Supplies</td>\n",
       "      <td>Binders</td>\n",
       "      <td>194723</td>\n",
       "    </tr>\n",
       "    <tr>\n",
       "      <th>6</th>\n",
       "      <td>Office Supplies</td>\n",
       "      <td>Appliances</td>\n",
       "      <td>104061</td>\n",
       "    </tr>\n",
       "    <tr>\n",
       "      <th>7</th>\n",
       "      <td>Office Supplies</td>\n",
       "      <td>Paper</td>\n",
       "      <td>76312</td>\n",
       "    </tr>\n",
       "    <tr>\n",
       "      <th>8</th>\n",
       "      <td>Technology</td>\n",
       "      <td>Phones</td>\n",
       "      <td>325271</td>\n",
       "    </tr>\n",
       "    <tr>\n",
       "      <th>9</th>\n",
       "      <td>Technology</td>\n",
       "      <td>Machines</td>\n",
       "      <td>189238</td>\n",
       "    </tr>\n",
       "    <tr>\n",
       "      <th>10</th>\n",
       "      <td>Technology</td>\n",
       "      <td>Accessories</td>\n",
       "      <td>162791</td>\n",
       "    </tr>\n",
       "    <tr>\n",
       "      <th>11</th>\n",
       "      <td>Technology</td>\n",
       "      <td>Copiers</td>\n",
       "      <td>146248</td>\n",
       "    </tr>\n",
       "  </tbody>\n",
       "</table>\n",
       "</div>"
      ],
      "text/plain": [
       "          Categoria SubCategoria  Valor_Venda\n",
       "0         Furniture       Chairs       317919\n",
       "1         Furniture       Tables       202083\n",
       "2         Furniture    Bookcases       108045\n",
       "3         Furniture  Furnishings        88862\n",
       "4   Office Supplies      Storage       216188\n",
       "5   Office Supplies      Binders       194723\n",
       "6   Office Supplies   Appliances       104061\n",
       "7   Office Supplies        Paper        76312\n",
       "8        Technology       Phones       325271\n",
       "9        Technology     Machines       189238\n",
       "10       Technology  Accessories       162791\n",
       "11       Technology      Copiers       146248"
      ]
     },
     "execution_count": 60,
     "metadata": {},
     "output_type": "execute_result"
    }
   ],
   "source": [
    "# Dataframe com categorias e subcategorias\n",
    "df_dsa_p10"
   ]
  },
  {
   "attachments": {},
   "cell_type": "markdown",
   "id": "f92ef3d8",
   "metadata": {},
   "source": [
    "Este será o dataframe para o anel interior"
   ]
  },
  {
   "cell_type": "code",
   "execution_count": 61,
   "id": "08ac4ab0",
   "metadata": {},
   "outputs": [],
   "source": [
    "# Dataframe somente com os totais por categoria\n",
    "df_dsa_p10_cat = df_dsa_p10.groupby('Categoria').sum(numeric_only = True).reset_index()"
   ]
  },
  {
   "cell_type": "code",
   "execution_count": 62,
   "id": "670f2939",
   "metadata": {},
   "outputs": [
    {
     "data": {
      "text/html": [
       "<div>\n",
       "<style scoped>\n",
       "    .dataframe tbody tr th:only-of-type {\n",
       "        vertical-align: middle;\n",
       "    }\n",
       "\n",
       "    .dataframe tbody tr th {\n",
       "        vertical-align: top;\n",
       "    }\n",
       "\n",
       "    .dataframe thead th {\n",
       "        text-align: right;\n",
       "    }\n",
       "</style>\n",
       "<table border=\"1\" class=\"dataframe\">\n",
       "  <thead>\n",
       "    <tr style=\"text-align: right;\">\n",
       "      <th></th>\n",
       "      <th>Categoria</th>\n",
       "      <th>Valor_Venda</th>\n",
       "    </tr>\n",
       "  </thead>\n",
       "  <tbody>\n",
       "    <tr>\n",
       "      <th>0</th>\n",
       "      <td>Furniture</td>\n",
       "      <td>716909</td>\n",
       "    </tr>\n",
       "    <tr>\n",
       "      <th>1</th>\n",
       "      <td>Office Supplies</td>\n",
       "      <td>591284</td>\n",
       "    </tr>\n",
       "    <tr>\n",
       "      <th>2</th>\n",
       "      <td>Technology</td>\n",
       "      <td>823548</td>\n",
       "    </tr>\n",
       "  </tbody>\n",
       "</table>\n",
       "</div>"
      ],
      "text/plain": [
       "         Categoria  Valor_Venda\n",
       "0        Furniture       716909\n",
       "1  Office Supplies       591284\n",
       "2       Technology       823548"
      ]
     },
     "execution_count": 62,
     "metadata": {},
     "output_type": "execute_result"
    }
   ],
   "source": [
    "# Dataframe com categorias \n",
    "df_dsa_p10_cat"
   ]
  },
  {
   "attachments": {},
   "cell_type": "markdown",
   "id": "bc22e1aa",
   "metadata": {},
   "source": [
    "E este será o dataframe para o anel exterior"
   ]
  },
  {
   "cell_type": "code",
   "execution_count": 63,
   "id": "cba737b4",
   "metadata": {},
   "outputs": [],
   "source": [
    "# Listas de cores para categorias\n",
    "cores_categorias = ['#5d00de',\n",
    "                    '#0ee84f',\n",
    "                    '#e80e27']"
   ]
  },
  {
   "cell_type": "code",
   "execution_count": 64,
   "id": "70035a46",
   "metadata": {},
   "outputs": [],
   "source": [
    "# Listas de cores para subcategorias\n",
    "cores_subcategorias = ['#aa8cd4',\n",
    "                       '#aa8cd5',\n",
    "                       '#aa8cd6',\n",
    "                       '#aa8cd7',\n",
    "                       '#26c957',\n",
    "                       '#26c958',\n",
    "                       '#26c959',\n",
    "                       '#26c960',\n",
    "                       '#e65e65',\n",
    "                       '#e65e66',\n",
    "                       '#e65e67',\n",
    "                       '#e65e68']"
   ]
  },
  {
   "cell_type": "code",
   "execution_count": 66,
   "id": "0028c025",
   "metadata": {},
   "outputs": [
    {
     "data": {
      "image/png": "[encoded data removed]",
      "text/plain": [
       "<Figure size 1296x864 with 1 Axes>"
      ]
     },
     "metadata": {},
     "output_type": "display_data"
    }
   ],
   "source": [
    "# Plotando o gráfico\n",
    "\n",
    "# Tamanho da figura\n",
    "fig, ax = plt.subplots(figsize = (18,12))\n",
    "\n",
    "# Gráfico das categorias\n",
    "p1 = ax.pie(df_dsa_p10_cat['Valor_Venda'], \n",
    "            radius = 1,\n",
    "            labels = df_dsa_p10_cat['Categoria'],\n",
    "            wedgeprops = dict(edgecolor = 'white'),\n",
    "            colors = cores_categorias)\n",
    "\n",
    "# Gráfico das subcategorias\n",
    "p2 = ax.pie(df_dsa_p10['Valor_Venda'],\n",
    "            radius = 0.9,\n",
    "            labels = df_dsa_p10['SubCategoria'],\n",
    "            autopct = converte_notacao(df_dsa_p10['Valor_Venda']),\n",
    "            colors = cores_subcategorias, \n",
    "            labeldistance = 0.7,\n",
    "            wedgeprops = dict(edgecolor = 'white'), \n",
    "            pctdistance = 0.53,\n",
    "            rotatelabels = True)\n",
    "\n",
    "# Limpa o centro do círculo\n",
    "centre_circle = plt.Circle((0, 0), 0.6, fc = 'white')\n",
    "\n",
    "# Labels e anotações\n",
    "fig = plt.gcf()\n",
    "fig.gca().add_artist(centre_circle)\n",
    "plt.annotate(text = 'Total de Vendas: ' + '$ ' + str(int(sum(df_dsa_p10['Valor_Venda']))), xy = (-0.2, 0))\n",
    "plt.title('Total de Vendas Por Categoria e Top 12 SubCategorias')\n",
    "plt.show()"
   ]
  },
  {
   "cell_type": "code",
   "execution_count": null,
   "id": "8a37f53a",
   "metadata": {},
   "outputs": [],
   "source": []
  }
 ],
 "metadata": {
  "kernelspec": {
   "display_name": "Python 3 (ipykernel)",
   "language": "python",
   "name": "python3"
  },
  "language_info": {
   "codemirror_mode": {
    "name": "ipython",
    "version": 3
   },
   "file_extension": ".py",
   "mimetype": "text/x-python",
   "name": "python",
   "nbconvert_exporter": "python",
   "pygments_lexer": "ipython3",
   "version": "3.9.7"
  }
 },
 "nbformat": 4,
 "nbformat_minor": 5
}
